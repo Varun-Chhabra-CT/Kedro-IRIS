{
 "cells": [
  {
   "cell_type": "code",
   "execution_count": 1,
   "metadata": {},
   "outputs": [
    {
     "name": "stdout",
     "output_type": "stream",
     "text": [

      "2020-12-21 14:43:45,730 - kedro.io.data_catalog - INFO - Loading data from `example_iris_data` (SparkDataSet)...\n"
     ]
    },
    {
     "data": {
      "text/plain": [
       "Row(sepal_length=5.1, sepal_width=3.5, petal_length=1.4, petal_width=0.2, species='setosa')"
      ]
     },
     "execution_count": 1,
     "metadata": {},
     "output_type": "execute_result"
    }
   ],
   "source": [
    "df = context.catalog.load(\"example_iris_data\")\n",
    "df.head()"
   ]
  },
  {
   "cell_type": "code",
   "execution_count": 11,
   "metadata": {},
   "outputs": [],
   "source": [
    "import os\n",
    "os.chdir(\"C:/Users/VarunC/AppData/Roaming/Python/Python38/Scripts/trial_repo_databricks\")"
   ]
  },
  {
   "cell_type": "code",
   "execution_count": 14,
   "metadata": {},
   "outputs": [
    {
     "name": "stdout",
     "output_type": "stream",
     "text": [
      "2020-12-21 15:12:16,528 - kedro.io.data_catalog - INFO - Loading data from `example_iris_data` (SparkDataSet)...\n"
     ]
    },
    {
     "data": {
      "text/plain": [
       "Row(sepal_length=5.1, sepal_width=3.5, petal_length=1.4, petal_width=0.2, species='setosa')"
      ]
     },
     "execution_count": 14,
     "metadata": {},
     "output_type": "execute_result"
    }
   ],
   "source": [
    "from pathlib import Path\n",
    "from kedro.context import load_context\n",
    "\n",
    "proj_path = Path.cwd()\n",
    "context = load_context(proj_path)\n",
    "df = context.catalog.load(\"example_iris_data\")\n",
    "df.head()"
   ]
  },
  {
   "cell_type": "code",
   "execution_count": 15,
   "metadata": {},
   "outputs": [
    {
     "name": "stdout",
     "output_type": "stream",
     "text": [
      "2020-12-21 15:12:21,526 - root - INFO - ** Kedro project trial_repo_databricks\n",
      "2020-12-21 15:12:22,635 - kedro.versioning.journal - WARNING - Unable to git describe C:\\Users\\VarunC\\AppData\\Roaming\\Python\\Python38\\Scripts\\trial_repo_databricks\n",
      "2020-12-21 15:12:22,666 - kedro.io.data_catalog - INFO - Loading data from `example_iris_data` (SparkDataSet)...\n",
      "2020-12-21 15:12:23,478 - kedro.pipeline.node - INFO - Running node: transform_features([example_iris_data]) -> [transformed_data]\n",
      "2020-12-21 15:12:28,865 - kedro.io.data_catalog - INFO - Saving data to `transformed_data` (MemoryDataSet)...\n",
      "2020-12-21 15:12:28,869 - kedro.runner.sequential_runner - INFO - Completed 1 out of 5 tasks\n",
      "2020-12-21 15:12:28,871 - kedro.io.data_catalog - INFO - Loading data from `transformed_data` (MemoryDataSet)...\n",
      "2020-12-21 15:12:28,874 - kedro.io.data_catalog - INFO - Loading data from `params:example_test_data_ratio` (MemoryDataSet)...\n",
      "2020-12-21 15:12:28,876 - kedro.pipeline.node - INFO - Running node: split_data([params:example_test_data_ratio,transformed_data]) -> [testing_data,training_data]\n",
      "2020-12-21 15:12:28,931 - kedro.io.data_catalog - INFO - Saving data to `training_data` (MemoryDataSet)...\n",
      "2020-12-21 15:12:28,935 - kedro.io.data_catalog - INFO - Saving data to `testing_data` (MemoryDataSet)...\n",
      "2020-12-21 15:12:28,939 - kedro.runner.sequential_runner - INFO - Completed 2 out of 5 tasks\n",
      "2020-12-21 15:12:28,943 - kedro.io.data_catalog - INFO - Loading data from `training_data` (MemoryDataSet)...\n",
      "2020-12-21 15:12:28,946 - kedro.io.data_catalog - INFO - Loading data from `parameters` (MemoryDataSet)...\n",
      "2020-12-21 15:12:28,950 - kedro.pipeline.node - INFO - Running node: train_model([parameters,training_data]) -> [example_classifier]\n",
      "2020-12-21 15:12:45,496 - kedro.io.data_catalog - INFO - Saving data to `example_classifier` (MemoryDataSet)...\n",
      "2020-12-21 15:12:45,500 - kedro.runner.sequential_runner - INFO - Completed 3 out of 5 tasks\n",
      "2020-12-21 15:12:45,504 - kedro.io.data_catalog - INFO - Loading data from `example_classifier` (MemoryDataSet)...\n",
      "2020-12-21 15:12:45,508 - kedro.io.data_catalog - INFO - Loading data from `testing_data` (MemoryDataSet)...\n",
      "2020-12-21 15:12:45,512 - kedro.pipeline.node - INFO - Running node: predict([example_classifier,testing_data]) -> [example_predictions]\n",
      "2020-12-21 15:12:45,683 - kedro.io.data_catalog - INFO - Saving data to `example_predictions` (MemoryDataSet)...\n",
      "2020-12-21 15:12:45,688 - kedro.runner.sequential_runner - INFO - Completed 4 out of 5 tasks\n",
      "2020-12-21 15:12:45,690 - kedro.io.data_catalog - INFO - Loading data from `example_predictions` (MemoryDataSet)...\n",
      "2020-12-21 15:12:45,693 - kedro.pipeline.node - INFO - Running node: report_accuracy([example_predictions]) -> None\n",
      "2020-12-21 15:12:48,910 - python_package.pipelines.data_science.nodes - INFO - Model accuracy: 96.77%\n",
      "2020-12-21 15:12:48,919 - kedro.runner.sequential_runner - INFO - Completed 5 out of 5 tasks\n",
      "2020-12-21 15:12:48,925 - kedro.runner.sequential_runner - INFO - Pipeline execution completed successfully.\n"
     ]
    },
    {
     "data": {
      "text/plain": [
       "{}"
      ]
     },
     "execution_count": 15,
     "metadata": {},
     "output_type": "execute_result"
    }
   ],
   "source": [
    "from pathlib import Path\n",
    "from kedro.context import load_context\n",
    "\n",
    "proj_path = Path.cwd()\n",
    "context = load_context(proj_path)\n",
    "context.run()"
   ]
  },
  {
   "cell_type": "code",
   "execution_count": null,
   "metadata": {},
   "outputs": [],
   "source": []
  }
 ],
 "metadata": {
  "kernelspec": {
   "display_name": "IrisDatabricks",
   "language": "python",
   "name": "python3"
  },
  "language_info": {
   "codemirror_mode": {
    "name": "ipython",
    "version": 3
   },
   "file_extension": ".py",
   "mimetype": "text/x-python",
   "name": "python",
   "nbconvert_exporter": "python",
   "pygments_lexer": "ipython3",
   "version": "3.6.12"
  }
 },
 "nbformat": 4,
 "nbformat_minor": 4
}
